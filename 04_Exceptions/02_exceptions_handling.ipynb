{
 "cells": [
  {
   "cell_type": "markdown",
   "metadata": {},
   "source": [
    "Exception Handling"
   ]
  },
  {
   "cell_type": "code",
   "execution_count": 1,
   "metadata": {},
   "outputs": [],
   "source": [
    "import builtins"
   ]
  },
  {
   "cell_type": "code",
   "execution_count": 2,
   "metadata": {},
   "outputs": [
    {
     "data": {
      "text/plain": [
       "['ArithmeticError',\n",
       " 'AssertionError',\n",
       " 'AttributeError',\n",
       " 'BaseException',\n",
       " 'BaseExceptionGroup',\n",
       " 'BlockingIOError',\n",
       " 'BrokenPipeError',\n",
       " 'BufferError',\n",
       " 'BytesWarning',\n",
       " 'ChildProcessError',\n",
       " 'ConnectionAbortedError',\n",
       " 'ConnectionError',\n",
       " 'ConnectionRefusedError',\n",
       " 'ConnectionResetError',\n",
       " 'DeprecationWarning',\n",
       " 'EOFError',\n",
       " 'Ellipsis',\n",
       " 'EncodingWarning',\n",
       " 'EnvironmentError',\n",
       " 'Exception',\n",
       " 'ExceptionGroup',\n",
       " 'False',\n",
       " 'FileExistsError',\n",
       " 'FileNotFoundError',\n",
       " 'FloatingPointError',\n",
       " 'FutureWarning',\n",
       " 'GeneratorExit',\n",
       " 'IOError',\n",
       " 'ImportError',\n",
       " 'ImportWarning',\n",
       " 'IndentationError',\n",
       " 'IndexError',\n",
       " 'InterruptedError',\n",
       " 'IsADirectoryError',\n",
       " 'KeyError',\n",
       " 'KeyboardInterrupt',\n",
       " 'LookupError',\n",
       " 'MemoryError',\n",
       " 'ModuleNotFoundError',\n",
       " 'NameError',\n",
       " 'None',\n",
       " 'NotADirectoryError',\n",
       " 'NotImplemented',\n",
       " 'NotImplementedError',\n",
       " 'OSError',\n",
       " 'OverflowError',\n",
       " 'PendingDeprecationWarning',\n",
       " 'PermissionError',\n",
       " 'ProcessLookupError',\n",
       " 'RecursionError',\n",
       " 'ReferenceError',\n",
       " 'ResourceWarning',\n",
       " 'RuntimeError',\n",
       " 'RuntimeWarning',\n",
       " 'StopAsyncIteration',\n",
       " 'StopIteration',\n",
       " 'SyntaxError',\n",
       " 'SyntaxWarning',\n",
       " 'SystemError',\n",
       " 'SystemExit',\n",
       " 'TabError',\n",
       " 'TimeoutError',\n",
       " 'True',\n",
       " 'TypeError',\n",
       " 'UnboundLocalError',\n",
       " 'UnicodeDecodeError',\n",
       " 'UnicodeEncodeError',\n",
       " 'UnicodeError',\n",
       " 'UnicodeTranslateError',\n",
       " 'UnicodeWarning',\n",
       " 'UserWarning',\n",
       " 'ValueError',\n",
       " 'Warning',\n",
       " 'ZeroDivisionError',\n",
       " '__IPYTHON__',\n",
       " '__build_class__',\n",
       " '__debug__',\n",
       " '__doc__',\n",
       " '__import__',\n",
       " '__loader__',\n",
       " '__name__',\n",
       " '__package__',\n",
       " '__spec__',\n",
       " 'abs',\n",
       " 'aiter',\n",
       " 'all',\n",
       " 'anext',\n",
       " 'any',\n",
       " 'ascii',\n",
       " 'bin',\n",
       " 'bool',\n",
       " 'breakpoint',\n",
       " 'bytearray',\n",
       " 'bytes',\n",
       " 'callable',\n",
       " 'chr',\n",
       " 'classmethod',\n",
       " 'compile',\n",
       " 'complex',\n",
       " 'copyright',\n",
       " 'credits',\n",
       " 'delattr',\n",
       " 'dict',\n",
       " 'dir',\n",
       " 'display',\n",
       " 'divmod',\n",
       " 'enumerate',\n",
       " 'eval',\n",
       " 'exec',\n",
       " 'execfile',\n",
       " 'filter',\n",
       " 'float',\n",
       " 'format',\n",
       " 'frozenset',\n",
       " 'get_ipython',\n",
       " 'getattr',\n",
       " 'globals',\n",
       " 'hasattr',\n",
       " 'hash',\n",
       " 'help',\n",
       " 'hex',\n",
       " 'id',\n",
       " 'input',\n",
       " 'int',\n",
       " 'isinstance',\n",
       " 'issubclass',\n",
       " 'iter',\n",
       " 'len',\n",
       " 'license',\n",
       " 'list',\n",
       " 'locals',\n",
       " 'map',\n",
       " 'max',\n",
       " 'memoryview',\n",
       " 'min',\n",
       " 'next',\n",
       " 'object',\n",
       " 'oct',\n",
       " 'open',\n",
       " 'ord',\n",
       " 'pow',\n",
       " 'print',\n",
       " 'property',\n",
       " 'range',\n",
       " 'repr',\n",
       " 'reversed',\n",
       " 'round',\n",
       " 'runfile',\n",
       " 'set',\n",
       " 'setattr',\n",
       " 'slice',\n",
       " 'sorted',\n",
       " 'staticmethod',\n",
       " 'str',\n",
       " 'sum',\n",
       " 'super',\n",
       " 'tuple',\n",
       " 'type',\n",
       " 'vars',\n",
       " 'zip']"
      ]
     },
     "execution_count": 2,
     "metadata": {},
     "output_type": "execute_result"
    }
   ],
   "source": [
    "dir(builtins)"
   ]
  },
  {
   "cell_type": "code",
   "execution_count": 3,
   "metadata": {},
   "outputs": [],
   "source": [
    "num1 = 10\n",
    "#  num2 = 20  # IndentationError: unexpected indent"
   ]
  },
  {
   "cell_type": "code",
   "execution_count": 4,
   "metadata": {},
   "outputs": [
    {
     "ename": "ZeroDivisionError",
     "evalue": "integer modulo by zero",
     "output_type": "error",
     "traceback": [
      "\u001b[0;31m---------------------------------------------------------------------------\u001b[0m",
      "\u001b[0;31mZeroDivisionError\u001b[0m                         Traceback (most recent call last)",
      "Cell \u001b[0;32mIn[4], line 1\u001b[0m\n\u001b[0;32m----> 1\u001b[0m \u001b[38;5;241;43m10\u001b[39;49m\u001b[43m \u001b[49m\u001b[38;5;241;43m%\u001b[39;49m\u001b[43m \u001b[49m\u001b[38;5;241;43m0\u001b[39;49m\n",
      "\u001b[0;31mZeroDivisionError\u001b[0m: integer modulo by zero"
     ]
    }
   ],
   "source": [
    "10 % 0"
   ]
  },
  {
   "cell_type": "code",
   "execution_count": 5,
   "metadata": {},
   "outputs": [
    {
     "data": {
      "text/plain": [
       "10"
      ]
     },
     "execution_count": 5,
     "metadata": {},
     "output_type": "execute_result"
    }
   ],
   "source": [
    "num1"
   ]
  },
  {
   "cell_type": "code",
   "execution_count": 6,
   "metadata": {},
   "outputs": [
    {
     "ename": "AttributeError",
     "evalue": "'int' object has no attribute 'upper'",
     "output_type": "error",
     "traceback": [
      "\u001b[0;31m---------------------------------------------------------------------------\u001b[0m",
      "\u001b[0;31mAttributeError\u001b[0m                            Traceback (most recent call last)",
      "Cell \u001b[0;32mIn[6], line 1\u001b[0m\n\u001b[0;32m----> 1\u001b[0m \u001b[43mnum1\u001b[49m\u001b[38;5;241;43m.\u001b[39;49m\u001b[43mupper\u001b[49m()\n",
      "\u001b[0;31mAttributeError\u001b[0m: 'int' object has no attribute 'upper'"
     ]
    }
   ],
   "source": [
    "num1.upper()"
   ]
  },
  {
   "cell_type": "markdown",
   "metadata": {},
   "source": [
    "Exception Handling FOUR blocks - try, except , else, finally mandatory optional"
   ]
  },
  {
   "cell_type": "code",
   "execution_count": 7,
   "metadata": {},
   "outputs": [],
   "source": [
    "try:\n",
    "    num3 = int(input('Enter number:'))\n",
    "    print(num3)\n",
    "except:\n",
    "    pass"
   ]
  },
  {
   "cell_type": "code",
   "execution_count": null,
   "metadata": {},
   "outputs": [],
   "source": [
    "try:\n",
    "    num3 = int(input('Enter number:'))\n",
    "    print(num3)\n",
    "except:\n",
    "    pass"
   ]
  },
  {
   "cell_type": "code",
   "execution_count": null,
   "metadata": {},
   "outputs": [],
   "source": [
    "try:\n",
    "    num3 = int(input('Enter number:'))\n",
    "    print(num3)\n",
    "except Exception as ex:\n",
    "    print(\"ex      :\", ex)\n",
    "    print(\"str(ex) :\", str(ex))\n",
    "\n",
    "    print(\"repr(ex):\", repr(ex))\n",
    "    print(f\"{ex    = }\")"
   ]
  },
  {
   "cell_type": "code",
   "execution_count": null,
   "metadata": {},
   "outputs": [],
   "source": [
    "\n",
    "try:\n",
    "    10/0\n",
    "except Exception as ex:\n",
    "    print(f'{ex: =}')"
   ]
  },
  {
   "cell_type": "markdown",
   "metadata": {},
   "source": [
    "Exception flows when no error try -> else -> finally when error try -> except -> finally"
   ]
  },
  {
   "cell_type": "code",
   "execution_count": null,
   "metadata": {},
   "outputs": [],
   "source": [
    "try:\n",
    "    print(\"In try block\")\n",
    "    10 / int(input(\"Enter a number:\")) # 10\n",
    "except Exception as ex1:\n",
    "    print(f\"In Exception block: {ex1 =}\")\n",
    "else:\n",
    "    print(\"In Else block\")\n",
    "finally:\n",
    "    print(\"In finally block\")\n",
    "\n",
    "print(\"next statement\")"
   ]
  },
  {
   "cell_type": "code",
   "execution_count": null,
   "metadata": {},
   "outputs": [],
   "source": [
    "try:\n",
    "    print(\"In try block\")\n",
    "    10 / int(input(\"Enter a number:\")) # 0\n",
    "except Exception as ex1:\n",
    "    print(f\"In Exception block: {ex1 =}\")\n",
    "else:\n",
    "    print(\"In Else block\")\n",
    "finally:\n",
    "    print(\"In finally block\")\n",
    "\n",
    "print(\"next statement\")"
   ]
  },
  {
   "cell_type": "code",
   "execution_count": null,
   "metadata": {},
   "outputs": [],
   "source": [
    "try:\n",
    "    print(\"In try block\")\n",
    "    10 /0\n",
    "    10 / int(input(\"Enter a number:\"))\n",
    "except Exception as ex1:\n",
    "    print(f\"In Exception block: {ex1 =}\")\n",
    "else:\n",
    "    print(\"In Else block\")\n",
    "finally:\n",
    "    print(\"In finally block\")\n",
    "\n",
    "print(\"next statement\")"
   ]
  },
  {
   "cell_type": "code",
   "execution_count": null,
   "metadata": {},
   "outputs": [],
   "source": [
    "# # case 1 -- 5  ==========================> NO EXCEPTION\n",
    "# - python 03_exception_handling.py\n",
    "# In try block\n",
    "# Enter a number:5\n",
    "# In Else block\n",
    "# In finally block\n",
    "# next statement\n",
    "\n",
    "# # case 2 -- 0 ============================> ZeroDivisionError\n",
    "# - python 03_exception_handling.py\n",
    "# In try block\n",
    "# Enter a number:0\n",
    "# In Exception block: ex1 =ZeroDivisionError('division by zero')\n",
    "# In finally block\n",
    "# next statement\n",
    "\n",
    "\n",
    "# # case 3 -- 5.3  ==========================> ValueError\n",
    "# - python 03_exception_handling.py\n",
    "# In try block\n",
    "# Enter a number:5.3\n",
    "# In Exception block: ex1 =ValueError(\"invalid literal for int() with base 10: '5.3'\")\n",
    "# In finally block\n",
    "# next statement"
   ]
  },
  {
   "cell_type": "code",
   "execution_count": null,
   "metadata": {},
   "outputs": [],
   "source": [
    "# Case 1 - without exception handling\n",
    "num1 = 1000\n",
    "num2 = 2022\n",
    "\n",
    "add_result = num1 + num2\n",
    "print(f\"{add_result = }\")"
   ]
  },
  {
   "cell_type": "code",
   "execution_count": null,
   "metadata": {},
   "outputs": [],
   "source": [
    "num1 = 1000\n",
    "num2 = \"2022\"\n",
    "\n",
    "add_result = num1 + num2\n",
    "print(f\"{add_result = }\") "
   ]
  },
  {
   "cell_type": "code",
   "execution_count": null,
   "metadata": {},
   "outputs": [],
   "source": [
    "num1 = 1000\n",
    "num2 = \"2022\"\n",
    "\n",
    "try:\n",
    "    add_result = num1 + num2\n",
    "except Exception as ex:\n",
    "    print(f'{ex =}')\n",
    "else:\n",
    "    print(f\"{add_result = }\")"
   ]
  },
  {
   "cell_type": "code",
   "execution_count": null,
   "metadata": {},
   "outputs": [],
   "source": [
    "num1 = int(input(\"Enter an integer:\"))\n",
    "num2 = int(input(\"Enter an integer:\"))\n",
    "print(f'{num1 = }')\n",
    "print(f'{num2 = }')\n",
    "\n",
    "try:\n",
    "    add_result = num1 + num2\n",
    "except Exception as ex:\n",
    "    print(f'{ex =}')\n",
    "else:\n",
    "    print(f\"{add_result = }\") "
   ]
  },
  {
   "cell_type": "code",
   "execution_count": null,
   "metadata": {},
   "outputs": [],
   "source": [
    "num1 = int(input(\"Enter an integer:\"))\n",
    "num2 = int(input(\"Enter an integer:\"))\n",
    "print(f'{num1 = }')\n",
    "print(f'{num2 = }')\n",
    "\n",
    "try:\n",
    "    add_result = num1 + num2\n",
    "except Exception as ex:\n",
    "    print(f'{ex =}')\n",
    "else:\n",
    "    print(f\"{add_result = }\") "
   ]
  },
  {
   "cell_type": "code",
   "execution_count": null,
   "metadata": {},
   "outputs": [],
   "source": [
    "try:\n",
    "    num1 = int(input(\"Enter an integer:\"))\n",
    "    num2 = int(input(\"Enter an integer:\"))\n",
    "except Exception as ex:\n",
    "    print(f'{ex =}')\n",
    "else:\n",
    "    print(f'{num1 = }')\n",
    "    print(f'{num2 = }')\n",
    "    add_result = num1 + num2\n",
    "    print(f\"{add_result = }\") "
   ]
  },
  {
   "cell_type": "code",
   "execution_count": null,
   "metadata": {},
   "outputs": [],
   "source": [
    "try:\n",
    "    num1 = int(input(\"Enter an integer:\"))\n",
    "    num2 = int(input(\"Enter an integer:\"))\n",
    "except Exception as ex:\n",
    "    print(f'{ex =}')\n",
    "else:\n",
    "    print(f'{num1 = }')\n",
    "    print(f'{num2 = }')\n",
    "    add_result = num1 + num2\n",
    "    print(f\"{add_result = }\") "
   ]
  },
  {
   "cell_type": "code",
   "execution_count": null,
   "metadata": {},
   "outputs": [],
   "source": [
    "try:\n",
    "    num1 = int(input(\"Enter an integer:\"))\n",
    "    num2 = int(input(\"Enter an integer:\"))\n",
    "except Exception as ex:\n",
    "    print(f'{ex =}')\n",
    "else:\n",
    "    print(f'{num1 = }')\n",
    "    print(f'{num2 = }')\n",
    "    add_result = num1 + num2\n",
    "    print(f\"{add_result = }\")"
   ]
  },
  {
   "cell_type": "code",
   "execution_count": null,
   "metadata": {},
   "outputs": [],
   "source": [
    "try:\n",
    "    num1 = int(input(\"Enter an integer:\"))\n",
    "    num2 = int(input(\"Enter an integer:\"))\n",
    "except Exception as ex:\n",
    "    print(f'{ex =}')\n",
    "else:\n",
    "    print(f'{num1 = }')\n",
    "    print(f'{num2 = }')\n",
    "\n",
    "    try:\n",
    "        add_result = num1 / num2\n",
    "    except Exception as ex1:\n",
    "        print(f'{ex1 =}')\n",
    "    else:\n",
    "        print(f\"{add_result = }\") "
   ]
  },
  {
   "cell_type": "markdown",
   "metadata": {},
   "source": [
    "Handling Multiple exceptions"
   ]
  },
  {
   "cell_type": "code",
   "execution_count": null,
   "metadata": {},
   "outputs": [],
   "source": [
    "try:\n",
    "    num1 = int(input(\"Enter an integer:\"))\n",
    "    num2 = int(input(\"Enter an integer:\"))\n",
    "    division = num1 / num2\n",
    "except Exception as ex:\n",
    "    print(f\"{ex =}\")\n",
    "    print(\"Please enter integers only (or) denominator is 0\")\n",
    "else:\n",
    "    print(f\"{division = }\")"
   ]
  },
  {
   "cell_type": "code",
   "execution_count": null,
   "metadata": {},
   "outputs": [],
   "source": [
    "try:\n",
    "    num1 = int(input(\"Enter an integer:\"))\n",
    "    num2 = int(input(\"Enter an integer:\"))\n",
    "    division = num1 / num2\n",
    "except ValueError as ve:\n",
    "    print(f\"{ve =}\")\n",
    "    print(\"Please enter integers only\")\n",
    "except ZeroDivisionError as ze:\n",
    "    print(f\"{ze =}\")\n",
    "    print(\"Denominator should be NON-zero\")\n",
    "except Exception as ex:\n",
    "    print(f\"Unhandled Exception: {ex =}\")\n",
    "else:\n",
    "    print(f\"{division = }\")\n"
   ]
  },
  {
   "cell_type": "code",
   "execution_count": null,
   "metadata": {},
   "outputs": [],
   "source": [
    "# NOTE: Though we handle with specific exception based on seen errors,\n",
    "# It is always recommended to have absolute(umbrella) exception to\n",
    "# handle any unknown runtime errors.\n",
    "\n",
    "# NOTE: exception handling should be defined from lower to higher hierarchy."
   ]
  },
  {
   "cell_type": "code",
   "execution_count": null,
   "metadata": {},
   "outputs": [],
   "source": [
    "try:\n",
    "    num1 = int(input(\"Enter an integer:\"))\n",
    "    num2 = int(input(\"Enter an integer:\"))\n",
    "    division = num1 / num2\n",
    "except ValueError as ve:\n",
    "    print(f\"{ve =}\")\n",
    "    print(\"Please enter integers only\")\n",
    "except ArithmeticError as ae: \n",
    "    print(f'{ae = }')\n",
    "    print('Arithmetic error - can be FloatingPointError, or OverflowError or zero error')\n",
    "except ZeroDivisionError as ze:\n",
    "    print(f\"{ze =}\")\n",
    "    print(\"Denominator should be NON-zero\")\n",
    "except Exception as ex:\n",
    "    print(f\"Unhandled Exception: {ex =}\")\n",
    "else:\n",
    "    print(f\"{division = }\")\n"
   ]
  },
  {
   "cell_type": "markdown",
   "metadata": {},
   "source": [
    "Assertions Useful in unit testing/ pytest Validates the given condition\n",
    "\n",
    "SYNTAX:\n",
    "\n",
    "assert <condition>, \"<exception message if condition is incorrect>\""
   ]
  },
  {
   "cell_type": "code",
   "execution_count": null,
   "metadata": {},
   "outputs": [],
   "source": [
    "print(f\"{10 + 2}\")\n",
    "print(f\"{10 + 2 =}\")\n",
    "print(f\"{10 + 2 == 12}\")"
   ]
  },
  {
   "cell_type": "code",
   "execution_count": null,
   "metadata": {},
   "outputs": [],
   "source": [
    "if 10 + 2 == 12:\n",
    "    print(\"This is True\")\n",
    "else:\n",
    "    print(\"This is not correct\")"
   ]
  },
  {
   "cell_type": "code",
   "execution_count": null,
   "metadata": {},
   "outputs": [],
   "source": [
    "assert 2 + 10 == 12, \"Wrong answer\""
   ]
  },
  {
   "cell_type": "markdown",
   "metadata": {},
   "source": [
    "Raising exceptions"
   ]
  },
  {
   "cell_type": "code",
   "execution_count": null,
   "metadata": {},
   "outputs": [],
   "source": [
    "raise"
   ]
  },
  {
   "cell_type": "code",
   "execution_count": null,
   "metadata": {},
   "outputs": [],
   "source": [
    "raise Exception()"
   ]
  },
  {
   "cell_type": "code",
   "execution_count": null,
   "metadata": {},
   "outputs": [],
   "source": [
    "raise Exception('This is an error')"
   ]
  },
  {
   "cell_type": "code",
   "execution_count": null,
   "metadata": {},
   "outputs": [],
   "source": [
    "raise ValueError()"
   ]
  },
  {
   "cell_type": "code",
   "execution_count": null,
   "metadata": {},
   "outputs": [],
   "source": [
    "try:\n",
    "    raise NameError('This is name error')\n",
    "except Exception as ex:\n",
    "    print(f'{ex = }')"
   ]
  },
  {
   "cell_type": "code",
   "execution_count": null,
   "metadata": {},
   "outputs": [],
   "source": [
    "try:\n",
    "    raise NameError('This is name error')\n",
    "except NameError as ne:\n",
    "    ne.add_note(\"PLEASE ENSURE NOT TO REPEAT\")\n",
    "    raise\n",
    "    print(f\"{ne =}\")  # NOT REACHABLE"
   ]
  },
  {
   "cell_type": "code",
   "execution_count": null,
   "metadata": {},
   "outputs": [],
   "source": [
    "try:\n",
    "    try:\n",
    "        raise NameError(\"This is name error\")\n",
    "    except NameError as ne:\n",
    "        ne.add_note(\"PLEASE ENSURE NOT TO REPEAT\")\n",
    "        raise\n",
    "        # print(f\"{ne =}\")  # NOT REACHABLE\n",
    "except Exception as ex:\n",
    "    print(f\"{ex =}\")"
   ]
  },
  {
   "cell_type": "code",
   "execution_count": null,
   "metadata": {},
   "outputs": [],
   "source": []
  }
 ],
 "metadata": {
  "kernelspec": {
   "display_name": "Python 3",
   "language": "python",
   "name": "python3"
  },
  "language_info": {
   "codemirror_mode": {
    "name": "ipython",
    "version": 3
   },
   "file_extension": ".py",
   "mimetype": "text/x-python",
   "name": "python",
   "nbconvert_exporter": "python",
   "pygments_lexer": "ipython3",
   "version": "3.12.1"
  }
 },
 "nbformat": 4,
 "nbformat_minor": 2
}
