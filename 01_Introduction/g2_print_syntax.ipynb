{
 "cells": [
  {
   "cell_type": "markdown",
   "metadata": {},
   "source": [
    "### print function\n"
   ]
  },
  {
   "cell_type": "code",
   "execution_count": 1,
   "metadata": {},
   "outputs": [
    {
     "name": "stdout",
     "output_type": "stream",
     "text": [
      "hello;python;12132\tworld\n"
     ]
    }
   ],
   "source": [
    "print(\"hello\", \"python\", 12132, end=\"\\t\", sep=\";\")\n",
    "print(\"world\") # default end='\\n'"
   ]
  },
  {
   "cell_type": "code",
   "execution_count": 2,
   "metadata": {},
   "outputs": [
    {
     "name": "stdout",
     "output_type": "stream",
     "text": [
      "1;2;3;4;5;6\ta-b-c-d\n"
     ]
    }
   ],
   "source": [
    "print(1, 2, 3, 4, 5, 6, sep=\";\", end=\"\\t\")\n",
    "print(\"a\", \"b\", \"c\", \"d\", sep=\"-\") # default end='\\n'"
   ]
  },
  {
   "cell_type": "code",
   "execution_count": 4,
   "metadata": {},
   "outputs": [
    {
     "name": "stdout",
     "output_type": "stream",
     "text": [
      "Hi\n"
     ]
    }
   ],
   "source": [
    "# \\b - overwrites previous character\n",
    "print(\"He\\bi\")"
   ]
  },
  {
   "cell_type": "code",
   "execution_count": 5,
   "metadata": {},
   "outputs": [
    {
     "name": "stdout",
     "output_type": "stream",
     "text": [
      "134\n"
     ]
    }
   ],
   "source": [
    "print(\"12\\b34\")"
   ]
  },
  {
   "cell_type": "code",
   "execution_count": 7,
   "metadata": {},
   "outputs": [
    {
     "name": "stdout",
     "output_type": "stream",
     "text": [
      "firssecond\n",
      "\bsecond\n",
      "secon\n"
     ]
    }
   ],
   "source": [
    "print(\"first\\bsecond\")\n",
    "print(\"\\bsecond\")\n",
    "print(\"second\\b\")"
   ]
  },
  {
   "cell_type": "code",
   "execution_count": 8,
   "metadata": {},
   "outputs": [
    {
     "data": {
      "text/plain": [
       "'\\x08second'"
      ]
     },
     "execution_count": 8,
     "metadata": {},
     "output_type": "execute_result"
    }
   ],
   "source": [
    "'\\bsecond'"
   ]
  },
  {
   "cell_type": "code",
   "execution_count": 9,
   "metadata": {},
   "outputs": [
    {
     "name": "stdout",
     "output_type": "stream",
     "text": [
      "ie\n",
      "34\n",
      "second\n",
      "12345f\n",
      "DOG4567\n"
     ]
    }
   ],
   "source": [
    "# \\r - overwrites complete existing line \n",
    "print(\"He\\ri\")\n",
    "print(\"12\\r34\")\n",
    "print(\"first\\rsecond\")\n",
    "print(\"abcdef\\r12345\")\n",
    "print(\"1234567\\rDOG\")\n"
   ]
  },
  {
   "cell_type": "code",
   "execution_count": null,
   "metadata": {},
   "outputs": [
    {
     "name": "stdout",
     "output_type": "stream",
     "text": [
      "₹\n",
      "Ǝ\n",
      "&\n"
     ]
    }
   ],
   "source": [
    "#Unicode characters \\uXXX - unicode character\n",
    "print(\"\\u20B9\") # ₹ - unicode\n",
    "print(\"\\u018e\") # Ǝ - unicode\n",
    "\n",
    "print(\"\\046\")   # & - Ascii"
   ]
  },
  {
   "cell_type": "code",
   "execution_count": 2,
   "metadata": {},
   "outputs": [
    {
     "name": "stdout",
     "output_type": "stream",
     "text": [
      "$\n",
      "ñ\n"
     ]
    }
   ],
   "source": [
    "#\\X... - hexadecimal number \n",
    "print(\"\\x24\")\n",
    "print(\"\\xf1\")\n"
   ]
  },
  {
   "cell_type": "code",
   "execution_count": 3,
   "metadata": {},
   "outputs": [
    {
     "name": "stdout",
     "output_type": "stream",
     "text": [
      "#$%^*(*_(;))\n"
     ]
    }
   ],
   "source": [
    "print(\"#$%^*(*_(;))\")"
   ]
  }
 ],
 "metadata": {
  "kernelspec": {
   "display_name": "Python 3",
   "language": "python",
   "name": "python3"
  },
  "language_info": {
   "codemirror_mode": {
    "name": "ipython",
    "version": 3
   },
   "file_extension": ".py",
   "mimetype": "text/x-python",
   "name": "python",
   "nbconvert_exporter": "python",
   "pygments_lexer": "ipython3",
   "version": "3.12.1"
  }
 },
 "nbformat": 4,
 "nbformat_minor": 2
}
