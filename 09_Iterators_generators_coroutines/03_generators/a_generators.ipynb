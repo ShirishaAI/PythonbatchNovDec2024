{
 "cells": [
  {
   "cell_type": "markdown",
   "metadata": {},
   "source": [
    "Generators range(0, 100000, 2) -> 0 range(2, 100000, 2) -> 2 range(4, 100000, 2) -> 4 range(6, 100000, 2) -> 6 ....\n",
    "\n",
    "return is the last statement to execute in any function\n",
    "\n",
    "yield - keyword in python If yield is placed within function definition, it becomes generator\n",
    "\n",
    "PEP8 - don't use both return & yield in same function\n",
    "\n",
    "Generators follow the \"STATE SUSPENSION\""
   ]
  },
  {
   "cell_type": "code",
   "execution_count": 1,
   "metadata": {},
   "outputs": [
    {
     "name": "stdout",
     "output_type": "stream",
     "text": [
      "I am in the function\n"
     ]
    },
    {
     "data": {
      "text/plain": [
       "111"
      ]
     },
     "execution_count": 1,
     "metadata": {},
     "output_type": "execute_result"
    }
   ],
   "source": [
    "def myfunc():\n",
    "    print('I am in the function')\n",
    "    return 111\n",
    "    print('I am with 222')     # Code is not reachable. return is last statement to execute\n",
    "    return 222\n",
    "\n",
    "myfunc()"
   ]
  },
  {
   "cell_type": "code",
   "execution_count": 2,
   "metadata": {},
   "outputs": [
    {
     "name": "stdout",
     "output_type": "stream",
     "text": [
      "I am in the function\n"
     ]
    },
    {
     "data": {
      "text/plain": [
       "'even'"
      ]
     },
     "execution_count": 2,
     "metadata": {},
     "output_type": "execute_result"
    }
   ],
   "source": [
    "def is_even(n):\n",
    "    print('I am in the function')\n",
    "    if n % 2 == 0:\n",
    "        return 'even'  # last statemnet\n",
    "    else:\n",
    "        return 'odd'  # last statemnet\n",
    "\n",
    "is_even(10)"
   ]
  },
  {
   "cell_type": "code",
   "execution_count": 3,
   "metadata": {},
   "outputs": [
    {
     "name": "stdout",
     "output_type": "stream",
     "text": [
      "<class 'NoneType'> None\n"
     ]
    }
   ],
   "source": [
    "def my_generator():\n",
    "    return\n",
    "\n",
    "\n",
    "result = my_generator()\n",
    "print(type(result), result)"
   ]
  },
  {
   "cell_type": "code",
   "execution_count": 4,
   "metadata": {},
   "outputs": [
    {
     "name": "stdout",
     "output_type": "stream",
     "text": [
      "<class 'generator'> <generator object my_generator at 0x76d1f370dd20>\n"
     ]
    }
   ],
   "source": [
    "def my_generator():\n",
    "    yield\n",
    "\n",
    "\n",
    "result = my_generator()\n",
    "print(type(result), result)"
   ]
  },
  {
   "cell_type": "code",
   "execution_count": 5,
   "metadata": {},
   "outputs": [
    {
     "name": "stdout",
     "output_type": "stream",
     "text": [
      "<class 'generator'> <generator object my_generator at 0x76d1f370e1f0>\n"
     ]
    }
   ],
   "source": [
    "def my_generator():\n",
    "    yield\n",
    "    return\n",
    "\n",
    "\n",
    "result = my_generator()\n",
    "print(type(result), result)"
   ]
  },
  {
   "cell_type": "code",
   "execution_count": 6,
   "metadata": {},
   "outputs": [
    {
     "name": "stdout",
     "output_type": "stream",
     "text": [
      "<class 'generator'> <generator object my_generator at 0x76d1f370dd20>\n"
     ]
    }
   ],
   "source": [
    "def my_generator():\n",
    "    return\n",
    "    yield   # Though not reachable code, it is still a generator\n",
    "\n",
    "\n",
    "result = my_generator()\n",
    "print(type(result), result)"
   ]
  },
  {
   "cell_type": "code",
   "execution_count": 7,
   "metadata": {},
   "outputs": [
    {
     "name": "stdout",
     "output_type": "stream",
     "text": [
      "<class 'generator'> <generator object my_generator at 0x76d1f376cd00>\n"
     ]
    }
   ],
   "source": [
    "def my_generator():\n",
    "    print(\" I am in the function\")\n",
    "    yield 111\n",
    "    print(\"yielding 222\")\n",
    "    yield 222\n",
    "    print(\"yielding 333\")\n",
    "    yield 333\n",
    "    print(\"yielding 444\")\n",
    "    yield 444\n",
    "    return \"No More value to yield\"\n",
    "\n",
    "result = my_generator()\n",
    "print(type(result), result)"
   ]
  },
  {
   "cell_type": "code",
   "execution_count": 8,
   "metadata": {},
   "outputs": [],
   "source": [
    "# NOTE: Unlike functions, generators wont execute on fucntion call, \n",
    "# but when asked for first value"
   ]
  }
 ],
 "metadata": {
  "kernelspec": {
   "display_name": "Python 3",
   "language": "python",
   "name": "python3"
  },
  "language_info": {
   "codemirror_mode": {
    "name": "ipython",
    "version": 3
   },
   "file_extension": ".py",
   "mimetype": "text/x-python",
   "name": "python",
   "nbconvert_exporter": "python",
   "pygments_lexer": "ipython3",
   "version": "3.12.1"
  }
 },
 "nbformat": 4,
 "nbformat_minor": 2
}
